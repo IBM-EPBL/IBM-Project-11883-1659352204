{
  "cells": [
    {
      "cell_type": "markdown",
      "metadata": {
        "id": "3qzm9zXKcPAN"
      },
      "source": [
        "**Test the model**"
      ]
    },
    {
      "cell_type": "code",
      "execution_count": null,
      "metadata": {
        "id": "LsJjLA5sbjAy"
      },
      "outputs": [],
      "source": [
        "from tensorflow.keras.models import load_model\n",
        "from keras.preprocessing import image\n",
        "from PIL import Image\n",
        "import numpy as np"
      ]
    },
    {
      "cell_type": "code",
      "execution_count": null,
      "metadata": {
        "id": "sYpcjS6qbjAy"
      },
      "outputs": [],
      "source": [
        "model=load_model(\"mnistCNN.h5\")"
      ]
    },
    {
      "cell_type": "code",
      "execution_count": null,
      "metadata": {
        "id": "Iziom3hdbjAz"
      },
      "outputs": [],
      "source": [
        "\n",
        "import os, types\n",
        "import pandas as pd\n",
        "from botocore.client import Config\n",
        "import ibm_boto3\n",
        "\n",
        "def __iter__(self): return 0\n",
        "\n",
        "# @hidden_cell\n",
        "# The following code accesses a file in your IBM Cloud Object Storage. It includes your credentials.\n",
        "# You might want to remove those credentials before you share the notebook.\n",
        "cos_client = ibm_boto3.client(service_name='s3',\n",
        "    ibm_api_key_id='80bpeEczl5btEjsCCpo0klid5WLhhYiedCKG6aEviOVK',\n",
        "    ibm_auth_endpoint=\"https://iam.cloud.ibm.com/oidc/token\",\n",
        "    config=Config(signature_version='oauth'),\n",
        "    endpoint_url='https://s3.private.us.cloud-object-storage.appdomain.cloud')\n",
        "\n",
        "bucket = 'handwrittendigitrecognition-donotdelete-pr-x9vvmczanx2bvt'\n",
        "object_key = '9.png'\n",
        "\n",
        "streaming_body_2 = cos_client.get_object(Bucket=bucket, Key=object_key)['Body']\n",
        "\n",
        "# Your data file was loaded into a botocore.response.StreamingBody object.\n",
        "# Please read the documentation of ibm_boto3 and pandas to learn more about the possibilities to load the data.\n",
        "# ibm_boto3 documentation: https://ibm.github.io/ibm-cos-sdk-python/\n",
        "# pandas documentation: http://pandas.pydata.org/\n"
      ]
    },
    {
      "cell_type": "code",
      "execution_count": null,
      "metadata": {
        "id": "K4Qqf2fSbjAz"
      },
      "outputs": [],
      "source": [
        "img = Image.open(streaming_body_2).convert(\"L\") # convert image to monochrome\n",
        "img = img.resize( (28,28) ) # resizing of input image"
      ]
    },
    {
      "cell_type": "code",
      "execution_count": null,
      "metadata": {
        "id": "PMwB7xOubjAz",
        "outputId": "c78d31a5-3e45-4f81-af92-c05a0cbd384d"
      },
      "outputs": [
        {
          "data": {
            "image/png": "[encoded data removed]",
            "text/plain": [
              "<PIL.Image.Image image mode=L size=28x28 at 0x7F7315176310>"
            ]
          },
          "execution_count": 71,
          "metadata": {},
          "output_type": "execute_result"
        }
      ],
      "source": [
        "img"
      ]
    },
    {
      "cell_type": "code",
      "execution_count": null,
      "metadata": {
        "id": "zQ44380IbjAz"
      },
      "outputs": [],
      "source": [
        "im2arr = np.array(img) #converting to image\n",
        "im2arr = im2arr.reshape(1, 28, 28, 1) #reshaping according to our requirement"
      ]
    },
    {
      "cell_type": "code",
      "execution_count": null,
      "metadata": {
        "id": "XiAGoAusbjAz",
        "outputId": "decf6aba-3513-4b17-c11e-28127e93354d"
      },
      "outputs": [
        {
          "name": "stdout",
          "output_type": "stream",
          "text": [
            "[[0.0000000e+00 0.0000000e+00 0.0000000e+00 3.1153780e-34 7.0210286e-15\n",
            "  0.0000000e+00 0.0000000e+00 0.0000000e+00 3.3097619e-23 1.0000000e+00]]\n"
          ]
        }
      ],
      "source": [
        "pred = model.predict(im2arr)\n",
        "print(pred)"
      ]
    },
    {
      "cell_type": "code",
      "execution_count": null,
      "metadata": {
        "id": "03N5sHUFbjA0",
        "outputId": "eb5506e9-f161-4ac1-fed3-8bda77462de7"
      },
      "outputs": [
        {
          "name": "stdout",
          "output_type": "stream",
          "text": [
            "[9]\n"
          ]
        }
      ],
      "source": [
        "print(np.argmax(pred, axis=1)) #printing our Labels"
      ]
    }
  ],
  "metadata": {
    "colab": {
      "provenance": []
    },
    "kernelspec": {
      "display_name": "Python 3.9",
      "language": "python",
      "name": "python3"
    },
    "language_info": {
      "codemirror_mode": {
        "name": "ipython",
        "version": 3
      },
      "file_extension": ".py",
      "mimetype": "text/x-python",
      "name": "python",
      "nbconvert_exporter": "python",
      "pygments_lexer": "ipython3",
      "version": "3.9.13"
    },
    "vscode": {
      "interpreter": {
        "hash": "4df2cc69eb3fd56a8a9780b07025dcfa15673fb6f5e64f079d5772d6ef5f08ae"
      }
    }
  },
  "nbformat": 4,
  "nbformat_minor": 0
}
